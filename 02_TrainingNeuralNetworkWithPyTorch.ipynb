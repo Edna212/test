{
 "cells": [
  {
   "cell_type": "markdown",
   "metadata": {
    "id": "H2ziwJpt73dM"
   },
   "source": [
    "**Building a binary classifier in PyTorch**\n",
    "\n",
    "Recall that a small neural network with a single linear layer followed by a sigmoid function is a binary classifier. It acts just like a logistic regression.\n",
    "\n",
    "In this exercise, you'll practice building this small network and interpreting the output of the classifier.\n",
    "\n",
    "The `torch` package and the `torch.nn` package have already been imported for you.\n",
    "\n",
    "**Instructions:**\n",
    "* Create a neural network that takes a tensor of dimensions `1x8` as input, and returns an output of the correct shape for binary classification.\n",
    "* Pass the output of the linear layer to a sigmoid, which both takes in and return a single float.\n",
    "* Which of the following is false about the output returned by your binary classifier?\n",
    "  * A. We can use a threshold of `0.5` to determine if the output belongs to one class or the other.\n",
    "  * B. It can return any float value.\n",
    "  * C. It is produced from an untrained model so it is not yet meaningful.\n",
    "  * D. The sigmoid function transforms the values of the input without changing its shape.\n"
   ]
  },
  {
   "cell_type": "code",
   "execution_count": 1,
   "metadata": {
    "id": "jrqfaTsXrag8"
   },
   "outputs": [
    {
     "ename": "AttributeError",
     "evalue": "module 'torch.nn' has no attribute '____'",
     "output_type": "error",
     "traceback": [
      "\u001b[1;31m---------------------------------------------------------------------------\u001b[0m",
      "\u001b[1;31mAttributeError\u001b[0m                            Traceback (most recent call last)",
      "Cell \u001b[1;32mIn[1], line 8\u001b[0m\n\u001b[0;32m      4\u001b[0m input_tensor \u001b[38;5;241m=\u001b[39m torch\u001b[38;5;241m.\u001b[39mTensor([[\u001b[38;5;241m3\u001b[39m, \u001b[38;5;241m4\u001b[39m, \u001b[38;5;241m6\u001b[39m, \u001b[38;5;241m2\u001b[39m, \u001b[38;5;241m3\u001b[39m, \u001b[38;5;241m6\u001b[39m, \u001b[38;5;241m8\u001b[39m, \u001b[38;5;241m9\u001b[39m]])\n\u001b[0;32m      6\u001b[0m \u001b[38;5;66;03m# Implement a small neural network for binary classification\u001b[39;00m\n\u001b[0;32m      7\u001b[0m model \u001b[38;5;241m=\u001b[39m nn\u001b[38;5;241m.\u001b[39mSequential(\n\u001b[1;32m----> 8\u001b[0m   \u001b[43mnn\u001b[49m\u001b[38;5;241;43m.\u001b[39;49m\u001b[43m____\u001b[49m(____),\n\u001b[0;32m      9\u001b[0m   nn\u001b[38;5;241m.\u001b[39m____()\n\u001b[0;32m     10\u001b[0m )\n\u001b[0;32m     12\u001b[0m output \u001b[38;5;241m=\u001b[39m model(input_tensor)\n\u001b[0;32m     13\u001b[0m \u001b[38;5;28mprint\u001b[39m(output)\n",
      "\u001b[1;31mAttributeError\u001b[0m: module 'torch.nn' has no attribute '____'"
     ]
    }
   ],
   "source": [
    "import torch\n",
    "import torch.nn as nn\n",
    "\n",
    "input_tensor = torch.Tensor([[3, 4, 6, 2, 3, 6, 8, 9]])\n",
    "\n",
    "# Implement a small neural network for binary classification\n",
    "model = nn.Sequential(\n",
    "  nn.____(____),\n",
    "  nn.____()\n",
    ")\n",
    "\n",
    "output = model(input_tensor)\n",
    "print(output)\n",
    "\n",
    "#Print either A, B, C or D for the last question.\n",
    "print(____)\n",
    "\n"
   ]
  },
  {
   "cell_type": "markdown",
   "metadata": {
    "id": "Phq2J6A89Ldf"
   },
   "source": [
    "# **From regression to multi-class classification**\n",
    "\n",
    "Recall that the models we have seen for binary classification, multi-class classification and regression have all been similar, barring a few tweaks to the model.\n",
    "\n",
    "In this exercise, you'll start by building a model for regression, and then tweak the model to perform a multi-class classification.\n",
    "\n",
    "**Instructions:**\n",
    "1. Create a neural network with exactly four linear layers, which takes the input tensor as input, and outputs a regression value, using any shapes you like for the hidden layers.\n",
    "\n",
    "2. A similar neural network to the one you just built is provided, containing four linear layers; update this network to perform a multi-class classification with four outputs.\n"
   ]
  },
  {
   "cell_type": "code",
   "execution_count": null,
   "metadata": {
    "id": "GZkHrYm59fIO"
   },
   "outputs": [],
   "source": [
    "import torch\n",
    "import torch.nn as nn\n",
    "\n",
    "input_tensor = torch.Tensor([[3, 4, 6, 7, 10, 12, 2, 3, 6, 8, 9]])\n",
    "\n",
    "# Implement a neural network with exactly four linear layers\n",
    "model = ____\n",
    "\n",
    "output = model(input_tensor)\n",
    "print(output)\n",
    "\n",
    "# Update network below to perform a multi-class classification with four labels\n",
    "model = nn.Sequential(\n",
    "  nn.Linear(11, 20),\n",
    "  nn.Linear(20, 12),\n",
    "  nn.Linear(12, 6),\n",
    "  nn.Linear(6, 1),\n",
    "  ____\n",
    ")\n",
    "\n",
    "output = model(input_tensor)\n",
    "print(output)"
   ]
  },
  {
   "cell_type": "markdown",
   "metadata": {
    "id": "nwDYVphIAUqJ"
   },
   "source": [
    "# **Creating one-hot encoded labels**\n",
    "\n",
    "One-hot encoding is a technique that turns a single integer label into a vector of `N` elements, where `N` is the number of classes in your dataset. This vector only contains zeros and ones. In this exercise, you'll create the one-hot encoded vector of the label `y` provided.\n",
    "\n",
    "You'll practice doing this manually, and then make your life easier by leveraging the help of PyTorch! Your dataset contains three classes.\n",
    "\n",
    "NumPy is already imported as `np`, and `torch.nn.functional as F`. The `torch` package is also imported.\n",
    "\n",
    "**Instructions:**\n",
    "* Manually create a one-hot encoded vector of the ground truth label `y` by filling in the NumPy array provided.\n",
    "* Create a one-hot encoded vector of the ground truth label `y` using PyTorch.\n"
   ]
  },
  {
   "cell_type": "code",
   "execution_count": null,
   "metadata": {
    "id": "sGEuvip7AqtM"
   },
   "outputs": [],
   "source": [
    "#Importing necessary libraries and modules\n",
    "import torch\n",
    "import torch.nn.functional as F\n",
    "import numpy as np\n",
    "\n",
    "y = 1\n",
    "num_classes = 3\n",
    "\n",
    "# Create the one-hot encoded vector using NumPy\n",
    "one_hot_numpy = np.array([____, ____, ____])\n",
    "\n",
    "# Create the one-hot encoded vector using PyTorch\n",
    "one_hot_pytorch = ____"
   ]
  },
  {
   "cell_type": "markdown",
   "metadata": {
    "id": "5RT-HQ-fBHoA"
   },
   "source": [
    "# **Calculating cross entropy loss**\n",
    "\n",
    "Cross entropy loss is the most used loss for classification problems. In this exercise, you will create inputs and calculate cross entropy loss in PyTorch. You are provided with the ground truth label `y` and a vector of `scores` predicted by your model.\n",
    "\n",
    "You'll start by creating a one-hot encoded vector of the ground truth label `y`, which is a required step to compare `y` with the scores predicted by your model. Next, you'll create a cross entropy loss function. Last, you'll call the loss function, which takes scores (model predictions before the final softmax function), and the one-hot encoded ground truth label, as inputs. It outputs a single float, the `loss` of that sample.\n",
    "\n",
    "`torch`, CrossEntropyLoss, and `torch.nn.functional as F` have already been imported for you.\n",
    "\n",
    "**Instructions:**\n",
    "* Create the one-hot encoded vector of the ground truth label `y` and assign it to `one_hot_label`.\n",
    "\n",
    "* Create the cross entropy loss function and store it as `criterion`.\n",
    "* Calculate the cross entropy loss using the `one_hot_label` vector and the `scores` vector, by calling the loss_function you created.\n"
   ]
  },
  {
   "cell_type": "code",
   "execution_count": null,
   "metadata": {
    "id": "ewsGQtPzBG-b"
   },
   "outputs": [],
   "source": [
    "import torch\n",
    "import torch.nn.functional as F\n",
    "from torch.nn import CrossEntropyLoss\n",
    "\n",
    "y = [2]\n",
    "scores = torch.tensor([[0.1, 6.0, -2.0, 3.2]])\n",
    "\n",
    "# Create a one-hot encoded vector of the label y\n",
    "one_hot_label = ____(____, num_classes=____)\n",
    "\n",
    "# Create the cross entropy loss function\n",
    "criterion = ____\n",
    "\n",
    "# Calculate the cross entropy loss\n",
    "loss = criterion(____)\n",
    "print(loss)\n",
    "\n"
   ]
  },
  {
   "cell_type": "markdown",
   "metadata": {
    "id": "O2UqLO9lXXO0"
   },
   "source": [
    "# **Estimating a sample**\n",
    "\n",
    "In previous exercises, you used linear layers to build networks.\n",
    "\n",
    "Recall that the operation performed by `nn.Linear()` is to take an input\n",
    "and apply the transformation `W * X + b`, where `W` and `b` are two tensors (called the weight and bias).\n",
    "\n",
    "A critical part of training PyTorch models is to calculate gradients of the weight and bias tensors with respect to a loss function.\n",
    "\n",
    "In this exercise, you will calculate weight and bias tensor gradients using cross entropy loss and a sample of data.\n",
    "\n",
    "The following tensors are provided:\n",
    "\n",
    "* `weight`: a `2 x 9`-element tesnor\n",
    "\n",
    "* `bias`: a `2`-element tensor\n",
    "* `preds`: a `1 x 2`-element tensor containing the model predictions\n",
    "* `target`: a `1 x 2`-element one-hot encoded tensor containing the ground-truth label\n",
    "\n",
    "\n",
    "**Instructions:**\n",
    "* Use the criterion you have defined to calculate the loss value with respect to the predictions and target values.\n",
    "* Compute the gradients of the cross entropy loss.\n",
    "* Display the gradients of the weight and bias tensors, in that order.\n"
   ]
  },
  {
   "cell_type": "code",
   "execution_count": null,
   "metadata": {
    "id": "ZAA02y1TZDKE"
   },
   "outputs": [],
   "source": [
    "#Run this cell first to do the exercise on the next cell\n",
    "import torch\n",
    "import torch.nn as nn\n",
    "\n",
    "weight = torch.tensor([[-1.1975,  2.0069, -0.8426, -0.8938,  0.1091,  0.1335,  0.6463, -0.8330, 0.0271],\n",
    "        [ 1.2193,  0.9024, -0.7527, -0.5498,  1.6105,  1.4751,  0.0624, -1.4398,-1.4400]], requires_grad=True)\n",
    "\n",
    "bias = torch.tensor([ 0.9410, -2.5964], requires_grad=True)\n",
    "target = torch.tensor([[1., 0.]])\n",
    "inputs = torch.rand(1, 9)\n",
    "preds = torch.matmul(inputs, weight.t()) + bias\n"
   ]
  },
  {
   "cell_type": "code",
   "execution_count": null,
   "metadata": {
    "id": "UQkZl2OSY7we"
   },
   "outputs": [],
   "source": [
    "criterion = nn.CrossEntropyLoss()\n",
    "\n",
    "# Calculate the loss\n",
    "loss = criterion(____, ____)\n",
    "\n",
    "# Compute the gradients of the loss\n",
    "____\n",
    "\n",
    "# Display gradients of the weight and bias tensors in order\n",
    "print(____)\n",
    "print(____)"
   ]
  },
  {
   "cell_type": "markdown",
   "metadata": {
    "id": "Q-U_tOIHa6Xg"
   },
   "source": [
    "# **Accessing the model parameters**\n",
    "\n",
    "A PyTorch model created with the `nn.Sequential()` is a module that contains the different layers of your network. Recall that each layer parameter can be accessed by indexing the created model directly. In this exercise, you will practice accessing the parameters of different linear layers of a neural network. You won't be accessing the sigmoid.\n",
    "\n",
    "**Instructions:**\n",
    "* Access the weight parameter of the first linear layer.\n",
    "* Access the bias parameter of the second linear layer.\n"
   ]
  },
  {
   "cell_type": "code",
   "execution_count": null,
   "metadata": {
    "id": "AcyMX3TkbKNZ"
   },
   "outputs": [],
   "source": [
    "model = nn.Sequential(nn.Linear(16, 8),\n",
    "                      nn.Sigmoid(),\n",
    "                      nn.Linear(8, 2))\n",
    "\n",
    "# Access the weight of the first linear layer\n",
    "weight_0 = ____\n",
    "\n",
    "# Access the bias of the second linear layer\n",
    "bias_1 = ____\n",
    "\n",
    "#Display the values\n",
    "print(\"The weight:\", weight_0)\n",
    "print(\"The bias:\", bias_1)"
   ]
  },
  {
   "cell_type": "markdown",
   "metadata": {
    "id": "NjQbB0TVbl1u"
   },
   "source": [
    "# **Updating the weights manually**\n",
    "\n",
    "Now that you know how to access weights and biases, you will manually perform the job of the PyTorch optimizer. PyTorch functions can do what you're about to do, but it's helpful to do the work manually at least once, to understand what's going on under the hood.\n",
    "\n",
    "A neural network of three layers has been created and stored as the `model` variable. This network has been used for a forward pass and the loss and its derivatives have been calculated. A default learning rate, `lr`, has been chosen to scale the gradients when performing the update.\n",
    "\n",
    "**Instructions:**\n",
    "* Create the gradient variables by accessing the local gradients of each weight tensor.\n",
    "* Update the weights using the gradients scaled by the learning rate.\n"
   ]
  },
  {
   "cell_type": "code",
   "execution_count": null,
   "metadata": {
    "id": "IeYbY7PDcABg"
   },
   "outputs": [],
   "source": [
    "#Run this cell before doing the exercise in the next cell\n",
    "\n",
    "#Import libraries and modules\n",
    "import torch\n",
    "import torch.nn as nn\n",
    "\n",
    "#Creating the model\n",
    "model = nn.Sequential(nn.Linear(16, 10),\n",
    "                      nn.Linear(10,8),\n",
    "                      nn.Linear(8, 2))\n",
    "#Doing the forward pass\n",
    "inputs = torch.rand(1, 16)\n",
    "preds = model(inputs)\n",
    "target = torch.tensor([[1., 0.]])\n",
    "criterion = nn.CrossEntropyLoss()\n",
    "loss_value = criterion(preds, target)\n",
    "loss_value.backward()\n",
    "lr = 0.01"
   ]
  },
  {
   "cell_type": "code",
   "execution_count": null,
   "metadata": {
    "id": "ecEiRrd_b6bc"
   },
   "outputs": [],
   "source": [
    "weight0 = model[0].weight\n",
    "weight1 = model[1].weight\n",
    "weight2 = model[2].weight\n",
    "\n",
    "# Access the gradients of the weight of each linear layer\n",
    "grads0 = ____\n",
    "grads1 = ____\n",
    "grads2 = ____\n",
    "\n",
    "# Update the weights using the learning rate and the gradients\n",
    "weight0 = ____\n",
    "weight1 = ____\n",
    "weight2 = ____\n"
   ]
  },
  {
   "cell_type": "markdown",
   "metadata": {
    "id": "9YC2bBKVdZ05"
   },
   "source": [
    "# **Using the PyTorch optimizer**\n",
    "\n",
    "In the previous exercise, you manually updated the weight of a network. You now know what's going on under the hood, but this approach is not scalable to a network of many layers.\n",
    "\n",
    "Thankfully, the PyTorch SGD optimizer does a similar job in a handful of lines of code. In this exercise, you will practice the last step to complete the training loop: updating the weights using a PyTorch optimizer.\n",
    "\n",
    "A neural network has been created and provided as the `model` variable. This model was used to run a forward pass and create the tensor of predictions `pred`. The one-hot encoded tensor is named `target` and the cross entropy loss function is stored as `criterion`.\n",
    "\n",
    "`torch.optim as optim`, and `torch.nn as nn` have already been loaded for you.\n",
    "\n",
    "**Instructions:**\n",
    "* Use `optim` to create an SGD optimizer with a learning rate of your choice (must be less than one) for the `model` provided.\n"
   ]
  },
  {
   "cell_type": "code",
   "execution_count": null,
   "metadata": {
    "id": "VPulL7lGd7nj"
   },
   "outputs": [],
   "source": [
    "#Importing libraries\n",
    "import torch\n",
    "import torch.nn as nn\n",
    "import torch.optim as optim\n",
    "\n",
    "# Create the optimizer\n",
    "optimizer = ____\n",
    "\n",
    "#Doing the forward pass\n",
    "inputs = torch.rand(1, 16)\n",
    "preds = model(inputs)\n",
    "target = torch.tensor([[1., 0.]])\n",
    "criterion = nn.CrossEntropyLoss()\n",
    "loss_value = criterion(preds, target)\n",
    "loss_value.backward()\n",
    "\n",
    "# Update the model's parameters using the optimizer\n",
    "____\n"
   ]
  },
  {
   "cell_type": "markdown",
   "metadata": {
    "id": "WGIJH2-HhFRR"
   },
   "source": [
    "# **Using the MSELoss**\n",
    "\n",
    "Recall that we can't use cross-entropy loss for regression problems. The mean squared error loss (MSELoss) is a common loss function for regression problems. In this exercise, you will practice calculating and observing the loss using NumPy as well as its PyTorch implementation.\n",
    "\n",
    "The `torch` package has been imported as well as `numpy` as `np` and `torch.nn` as `nn`.\n",
    "\n",
    "**Instructions:**\n",
    "* Calculate the MSELoss using NumPy.\n",
    "* Create a MSELoss function using PyTorch.\n",
    "* Convert `y_hat` and `y` to tensors and then float data types, and then use them to calculate MSELoss using PyTorch as `mse_pytorch`.\n"
   ]
  },
  {
   "cell_type": "code",
   "execution_count": null,
   "metadata": {
    "id": "yTGSLeuShkkp"
   },
   "outputs": [],
   "source": [
    "y_hat = np.array(10)\n",
    "y = np.array(1)\n",
    "\n",
    "# Calculate the MSELoss using NumPy\n",
    "mse_numpy = ____\n",
    "\n",
    "# Create the MSELoss function\n",
    "criterion = ____\n",
    "\n",
    "# Calculate the MSELoss using the created loss function\n",
    "mse_pytorch = criterion(____, ____)\n",
    "print(mse_pytorch)"
   ]
  },
  {
   "cell_type": "markdown",
   "metadata": {
    "id": "ydrTCnCwioQO"
   },
   "source": [
    "# **Writing a training loop**\n",
    "\n",
    "In scikit-learn, the whole training loop is contained in the `.fit()` method. In PyTorch, however, you implement the loop manually. While this provides control over loop's content, it requires a custom implementation.\n",
    "\n",
    "You will write a training loop every time you train a deep learning model with PyTorch, which you'll practice in this exercise. The `show_results()` function provided will display some sample ground truth and the model predictions.\n",
    "\n",
    "The package imports provided are: `pandas as pd`, `torch, torch.nn as nn`, `torch.optim as optim`, as well as `DataLoader` and `TensorDataset` from `torch.utils.data`.\n",
    "\n",
    "The following variables have been created: `dataloader`, containing the dataloader; `model`, containing the neural network; `criterion`, containing the loss function, `nn.MSELoss()`; `optimizer`, containing the SGD optimizer; and `num_epochs`, containing the number of epochs.\n",
    "\n",
    "**Instructions:**\n",
    "* Write a for loop that iterates over the `dataloader`; this should be nested within a for loop that iterates over a range equal to the number of epochs.\n",
    "* Set the gradients of the optimizer to zero.\n"
   ]
  },
  {
   "cell_type": "code",
   "execution_count": null,
   "metadata": {
    "id": "_MlGq5RcjSR_"
   },
   "outputs": [],
   "source": [
    "#Run this cell before doing the exercise in the next cell\n",
    "\n",
    "#Import all necessary libraries and modules\n",
    "import pandas as pd\n",
    "import torch\n",
    "import torch.nn as nn\n",
    "import torch.optim as optim\n",
    "from torch.utils.data import DataLoader, TensorDataset\n",
    "\n",
    "#Create the dataloader, criterion, optimizer, num_epochs\n",
    "X_df = pd.read_csv('https://github.com/DataAnalyst21/DatasetsForDataAnalytics/blob/main/model_input_data.csv?raw=True')\n",
    "y_df = pd.read_csv('https://github.com/DataAnalyst21/DatasetsForDataAnalytics/blob/main/model_true_output.csv?raw=True')\n",
    "X = torch.tensor(X_df.values, dtype=torch.float)\n",
    "y = torch.tensor(y_df.values, dtype=torch.float)\n",
    "dataset = TensorDataset(X, y)\n",
    "\n",
    "dataloader = DataLoader(dataset, batch_size=10, shuffle=True)\n",
    "model = nn.Sequential(nn.Linear(4, 10),\n",
    "                      nn.Linear(10,8),\n",
    "                      nn.Linear(8, 1))\n",
    "criterion = nn.MSELoss()\n",
    "optimizer = optim.SGD(model.parameters(), lr=0.001)\n",
    "num_epochs = 5\n",
    "\n",
    "#Write a function which takes the dataloader and iterates in it and displays the predictions and ground truth values\n",
    "def show_results(model, dataloader):\n",
    "  model.eval()\n",
    "  for data in dataloader:\n",
    "    # Run a forward pass\n",
    "    feature, target = data\n",
    "    with torch.no_grad():\n",
    "      prediction = model(feature)\n",
    "      # Print ground truth and predicted salary\n",
    "      print(\"Ground truth: {:.2f}, Predicted: {:.2f}\".format(target.item(), prediction.item()))\n"
   ]
  },
  {
   "cell_type": "code",
   "execution_count": null,
   "metadata": {
    "id": "E0_h3XCDjRU8"
   },
   "outputs": [],
   "source": [
    "# Loop over the number of epochs and then the dataloader\n",
    "for ____:\n",
    "  for ____:\n",
    "    # Set the gradients to zero\n",
    "    ____\n",
    "\n",
    "    # Run a forward pass\n",
    "    feature, target = data\n",
    "    prediction = ____\n",
    "    # Calculate the loss\n",
    "    loss = ____\n",
    "    # Compute the gradients\n",
    "    ____\n",
    "\n",
    "\n",
    "    # Update the model's parameters\n",
    "    ____\n",
    "show_results(model, dataloader)\n"
   ]
  }
 ],
 "metadata": {
  "colab": {
   "provenance": []
  },
  "kernelspec": {
   "display_name": "pytorch_series",
   "language": "python",
   "name": "pytorch_series"
  },
  "language_info": {
   "codemirror_mode": {
    "name": "ipython",
    "version": 3
   },
   "file_extension": ".py",
   "mimetype": "text/x-python",
   "name": "python",
   "nbconvert_exporter": "python",
   "pygments_lexer": "ipython3",
   "version": "3.11.5"
  }
 },
 "nbformat": 4,
 "nbformat_minor": 4
}
